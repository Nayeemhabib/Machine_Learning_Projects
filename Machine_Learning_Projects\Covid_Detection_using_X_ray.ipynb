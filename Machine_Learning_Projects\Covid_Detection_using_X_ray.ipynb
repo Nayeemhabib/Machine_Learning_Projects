{
  "cells": [
    {
      "cell_type": "markdown",
      "metadata": {
        "id": "view-in-github",
        "colab_type": "text"
      },
      "source": [
        "<a href=\"https://colab.research.google.com/github/Nayeemhabib/Machine_Learning_Projects/blob/main/Machine_Learning_Projects%5CCovid_Detection_using_X_ray.ipynb\" target=\"_parent\"><img src=\"https://colab.research.google.com/assets/colab-badge.svg\" alt=\"Open In Colab\"/></a>"
      ]
    },
    {
      "cell_type": "code",
      "execution_count": null,
      "metadata": {
        "id": "l8xaTSqdLcHJ"
      },
      "outputs": [],
      "source": [
        "# Inport Pyhton itineraries.\n",
        "import os\n",
        "import pathlib\n",
        "import numpy as np\n",
        "import pandas as pd\n",
        "import matplotlib.pyplot as plt\n",
        "import matplotlib.image as mpimg\n",
        "import random\n",
        "import cv2\n",
        "from sklearn.model_selection import train_test_split\n",
        "from tensorflow.keras.models import Sequential\n",
        "from tensorflow.keras.models import Model\n",
        "from tensorflow.keras.layers import Dense \n",
        "from tensorflow.keras.layers import Activation\n",
        "from tensorflow.keras.layers import Conv2D\n",
        "from tensorflow.keras.layers import MaxPool2D\n",
        "from tensorflow.keras.layers import Flatten\n",
        "from tensorflow.keras.layers import Dropout\n",
        "from tensorflow.keras.layers import BatchNormalization\n",
        "from tensorflow.keras.callbacks import EarlyStopping\n",
        "import tensorflow as tf\n",
        "from sklearn.metrics import classification_report,confusion_matrix\n"
      ]
    },
    {
      "cell_type": "code",
      "execution_count": null,
      "metadata": {
        "id": "2PXIZTOJlTmo"
      },
      "outputs": [],
      "source": [
        "# Import files / Loading the data or Loading all three datasets of persons which are normal, virus and covid\n",
        "from google.colab import files\n",
        "uploaded = files.upload()"
      ]
    },
    {
      "cell_type": "code",
      "execution_count": null,
      "metadata": {
        "id": "x6HGDfZLLaZL"
      },
      "outputs": [],
      "source": [
        "os.environ[\"KAGGLE_CONFIG_DIR\"] = \"/content\"\n",
        "# os.environ[\"KAGGLE_CONFIG_DIR\"] = \"/content\""
      ]
    },
    {
      "cell_type": "code",
      "execution_count": null,
      "metadata": {
        "id": "-vLXr-0UQEl8"
      },
      "outputs": [],
      "source": [
        "!kaggle datasets download -d sid321axn/covid-cxr-image-dataset-research"
      ]
    },
    {
      "cell_type": "code",
      "source": [
        "# Unzip the all given files that we have uploaded to our system\n",
        "!unzip \\*.zip"
      ],
      "metadata": {
        "id": "P8VjUBpOTn5R"
      },
      "execution_count": null,
      "outputs": []
    },
    {
      "cell_type": "code",
      "source": [
        "# Checking the number of images in each directory\n",
        "for dirpath, dirname, filename in os.walk(\"/content/COVID_IEEE\"):\n",
        "  print (f\"there are {len(dirname)} directory and {len(filename)} image in '{dirpath}', \")"
      ],
      "metadata": {
        "id": "GY1PP2m2UDkh"
      },
      "execution_count": null,
      "outputs": []
    },
    {
      "cell_type": "code",
      "source": [
        "# Create the array which stores the three lists\n",
        "data_dir = pathlib.Path(\"/content/COVID_IEEE\")\n",
        "class_name = np.array([sorted([item.name for item in data_dir.glob(\"*\")])])\n",
        "class_name"
      ],
      "metadata": {
        "id": "CbkYPEsNV1GC"
      },
      "execution_count": null,
      "outputs": []
    },
    {
      "cell_type": "code",
      "source": [
        "# Now create the function which will pick an image from the given random directory\n",
        "def view_images(target_dir, target_class):\n",
        "  target_folder = target_dir + target_class\n",
        "  random_image = random.sample(os.listdir(target_folder),1)\n",
        "  print(random_image)\n",
        "\n",
        "  img = mpimg.imread(target_folder + \"/\" + random_image[0])\n",
        "  plt.imshow(img, cmap = \"gray\")\n",
        "  plt.title(target_class)\n",
        "  plt.axis(\"off\")\n",
        "  return img"
      ],
      "metadata": {
        "id": "6Tzt07xgY2_F"
      },
      "execution_count": null,
      "outputs": []
    },
    {
      "cell_type": "code",
      "source": [
        "# Chest X-Ray of a Virus Person\n",
        "img = view_images(\"/content/COVID_IEEE/\", \"virus\")"
      ],
      "metadata": {
        "id": "9T9sHQBDbIc0"
      },
      "execution_count": null,
      "outputs": []
    },
    {
      "cell_type": "code",
      "source": [
        "#Chest X-Ray of a Normal Person\n",
        "img = view_images(\"/content/COVID_IEEE/\", \"normal\")"
      ],
      "metadata": {
        "id": "hwhj521pchrF"
      },
      "execution_count": null,
      "outputs": []
    },
    {
      "cell_type": "code",
      "source": [
        "#Chest X-Ray of a Covid Person\n",
        "img = view_images(\"/content/COVID_IEEE/\", \"covid\")"
      ],
      "metadata": {
        "id": "2WuepD34dQlF"
      },
      "execution_count": null,
      "outputs": []
    },
    {
      "cell_type": "code",
      "source": [
        "# Dislayig the radome images form the given data sets\n",
        "from matplotlib.image import imread\n",
        "# Load all images from a directory\n",
        "dir_path = \"/content/COVID_IEEE/covid/\"\n",
        "images = []\n",
        "for filename in os.listdir(dir_path):\n",
        "    img = imread(os.path.join(dir_path, filename))\n",
        "    if img is not None:\n",
        "        images.append(img)\n",
        "\n",
        "# Select a specified number of random images\n",
        "num_images = 2\n",
        "rand_indices = np.random.choice(len(images), num_images, replace=False)\n",
        "rand_images = [images[i] for i in rand_indices]\n",
        "\n",
        "# Plot the randomly selected images\n",
        "fig, axs = plt.subplots(1, num_images, figsize=(10,2))\n",
        "for i in range(num_images):\n",
        "    axs[i].imshow(rand_images[i])\n",
        "plt.show()\n"
      ],
      "metadata": {
        "id": "mQTYuPURqWOb"
      },
      "execution_count": null,
      "outputs": []
    },
    {
      "cell_type": "code",
      "source": [
        "#Importing the images in the variable\n",
        "data=[]\n",
        "labels=[]\n",
        "covid=os.listdir(\"/content/COVID_IEEE/covid/\")\n",
        "for a in covid:\n",
        "\n",
        "    image = cv2.imread(\"/content/COVID_IEEE/covid/\"+a,)\n",
        "    image = cv2.resize(image, (224, 224))\n",
        "\n",
        "\n",
        "    data.append(image)\n",
        "    labels.append(0)"
      ],
      "metadata": {
        "id": "2GC_JPN-lP7f"
      },
      "execution_count": null,
      "outputs": []
    },
    {
      "cell_type": "code",
      "source": [
        "\n",
        "normal=os.listdir(\"/content/COVID_IEEE/normal/\")\n",
        "for a in normal:\n",
        "\n",
        "    image = cv2.imread(\"/content/COVID_IEEE/normal/\"+a,)\n",
        "    image = cv2.resize(image, (224, 224))\n",
        "\n",
        "\n",
        "\n",
        "    data.append(image)\n",
        "    labels.append(1)"
      ],
      "metadata": {
        "id": "puWaICROlXdJ"
      },
      "execution_count": null,
      "outputs": []
    },
    {
      "cell_type": "code",
      "source": [
        "\n",
        "virus=os.listdir(\"/content/COVID_IEEE/virus/\")\n",
        "for a in virus:\n",
        "\n",
        "    image = cv2.imread(\"/content/COVID_IEEE/virus/\"+a,)\n",
        "    image = cv2.resize(image, (224, 224))\n",
        "    \n",
        "\n",
        "    data.append(image)\n",
        "    labels.append(2)"
      ],
      "metadata": {
        "id": "SSjexlb6lb4w"
      },
      "execution_count": null,
      "outputs": []
    },
    {
      "cell_type": "code",
      "source": [
        "data = np.array(data) / 255.0\n",
        "img_labels = np.array(labels)"
      ],
      "metadata": {
        "id": "66s6gYkhlc7n"
      },
      "execution_count": null,
      "outputs": []
    },
    {
      "cell_type": "code",
      "source": [
        "# Here we are splitting the data into training and test data \n",
        "x_train, x_test, y_train, y_test = train_test_split(data, img_labels, test_size=0.20, random_state=42)\n",
        "y_train = tf.keras.utils.to_categorical(y_train, num_classes = 3)\n",
        "y_test = tf.keras.utils.to_categorical(y_test, num_classes = 3)"
      ],
      "metadata": {
        "id": "QEBkKNiylgKe"
      },
      "execution_count": null,
      "outputs": []
    },
    {
      "cell_type": "code",
      "source": [
        "model = Sequential()\n",
        "\n",
        "#Block Number 1\n",
        "model.add(Conv2D(input_shape = (224,224,3), filters=32,padding=\"same\", kernel_size= (3,3)))\n",
        "model.add(Activation(\"relu\"))\n",
        "\n",
        "model.add(Conv2D(filters=32,padding=\"same\", kernel_size= (3,3)))\n",
        "model.add(Activation(\"relu\"))\n",
        "\n",
        "model.add(MaxPool2D((2,2)))\n",
        "\n",
        "#Block Number 2\n",
        "model.add(Conv2D(filters=64,padding=\"same\", kernel_size= (3,3)))\n",
        "model.add(Activation(\"relu\"))\n",
        "\n",
        "\n",
        "model.add(Conv2D(filters=64,padding=\"same\", kernel_size= (3,3)))\n",
        "model.add(Activation(\"relu\"))\n",
        "\n",
        "model.add(MaxPool2D((2,2)))\n",
        "\n",
        "#Block Number 3\n",
        "model.add(Conv2D(filters=128,padding=\"same\", kernel_size= (3,3)))\n",
        "model.add(Activation(\"relu\"))\n",
        "\n",
        "model.add(Conv2D(filters=128,padding=\"same\", kernel_size= (3,3)))\n",
        "model.add(Activation(\"relu\"))\n",
        "\n",
        "model.add(MaxPool2D((2,2)))\n",
        "\n",
        "model.add(MaxPool2D((2,2)))\n",
        "\n",
        "# Fully Connected layer\n",
        "model.add(Flatten())\n",
        "\n",
        "model.add(Dense(units=1024, activation=\"relu\"))\n",
        "\n",
        "model.add(Dense(units=256, activation=\"relu\"))\n",
        "\n",
        "\n",
        "model.add(Dense(units=3, activation=\"softmax\"))\n",
        "\n",
        "model.compile(optimizer='adam',loss='categorical_crossentropy',metrics=['accuracy'])"
      ],
      "metadata": {
        "id": "-jGmGxE09ieJ"
      },
      "execution_count": null,
      "outputs": []
    },
    {
      "cell_type": "code",
      "source": [
        "model.summary()"
      ],
      "metadata": {
        "id": "9BK1O9PFlrMe"
      },
      "execution_count": null,
      "outputs": []
    },
    {
      "cell_type": "code",
      "source": [
        "model.fit(x_train, y_train,validation_split = 0.3 ,epochs = 15, batch_size = 32)"
      ],
      "metadata": {
        "id": "6LRPi2xTG5bi"
      },
      "execution_count": null,
      "outputs": []
    },
    {
      "cell_type": "code",
      "source": [
        "#saving the model history\n",
        "loss = pd.DataFrame(model.history.history)\n",
        "\n",
        "#plotting the loss and accuracy \n",
        "plt.figure(figsize=(10,10))\n",
        "\n",
        "plt.subplot(2,2,1)\n",
        "plt.plot(loss[\"loss\"], label =\"Loss\")\n",
        "plt.plot(loss[\"val_loss\"], label = \"Validation_loss\")\n",
        "plt.legend()\n",
        "plt.title(\"Training and Validation Loss\")\n",
        "\n",
        "plt.subplot(2,2,2)\n",
        "plt.plot(loss['accuracy'],label = \"Training Accuracy\")\n",
        "plt.plot(loss['val_accuracy'], label =\"Validation_ Accuracy \")\n",
        "plt.legend()\n",
        "plt.title(\"Training-Validation Accuracy\")"
      ],
      "metadata": {
        "id": "KtPut3BdIn5q"
      },
      "execution_count": null,
      "outputs": []
    },
    {
      "cell_type": "code",
      "source": [
        "predictions = model.predict(x_test)\n",
        "y_pred = np.argmax(predictions, axis = 1)\n",
        "y_test_new = np.argmax(y_test, axis = 1)"
      ],
      "metadata": {
        "id": "5xEZFAJkIp1B"
      },
      "execution_count": null,
      "outputs": []
    },
    {
      "cell_type": "code",
      "source": [
        "print(classification_report(y_test_new, y_pred))"
      ],
      "metadata": {
        "id": "i53SDuE1IvCU"
      },
      "execution_count": null,
      "outputs": []
    },
    {
      "cell_type": "code",
      "source": [
        "pd.DataFrame(confusion_matrix(y_test_new, y_pred), columns= [\"covid\", \"normal\", \"virus\"], index = [\"covid\", \"normal\", \"virus\"])\n",
        "     "
      ],
      "metadata": {
        "id": "x_Kn7PIuIyhy"
      },
      "execution_count": null,
      "outputs": []
    },
    {
      "cell_type": "code",
      "source": [
        "base_model = tf.keras.applications.MobileNet(input_shape=[224,224,3], weights = \"imagenet\", include_top=False)\n",
        "\n",
        "for layer in base_model.layers:\n",
        "  layer.trainable =False"
      ],
      "metadata": {
        "id": "pDDfqWfvI1RS"
      },
      "execution_count": null,
      "outputs": []
    },
    {
      "cell_type": "code",
      "source": [
        "model = Flatten()(base_model.output)\n",
        "\n",
        "model = Dense(units=1024, activation=\"relu\")(model)\n",
        "model = Dense(units=512, activation=\"relu\")(model)\n",
        "model = Dense(units=256, activation=\"relu\")(model)\n",
        "\n",
        "prediction_layer = Dense(units=3, activation=\"softmax\")(model)"
      ],
      "metadata": {
        "id": "67hH0rQ8I36K"
      },
      "execution_count": null,
      "outputs": []
    },
    {
      "cell_type": "code",
      "source": [
        "model = Model(inputs = base_model.input, outputs = prediction_layer)\n",
        "model.compile(optimizer='adam',loss='categorical_crossentropy',metrics=['accuracy'])"
      ],
      "metadata": {
        "id": "MR3DvQGkI6jh"
      },
      "execution_count": null,
      "outputs": []
    },
    {
      "cell_type": "code",
      "source": [
        "model.summary()     "
      ],
      "metadata": {
        "id": "BA_FLPYYI-HB"
      },
      "execution_count": null,
      "outputs": []
    },
    {
      "cell_type": "code",
      "source": [
        "#saving the model history\n",
        "loss = pd.DataFrame(model.history.history)\n",
        "\n",
        "#plotting the loss and accuracy \n",
        "plt.figure(figsize=(10,10))\n",
        "\n",
        "plt.subplot(2,2,1)\n",
        "plt.plot(loss[\"loss\"], label =\"Loss\")\n",
        "plt.plot(loss[\"val_loss\"], label = \"Validation_loss\")\n",
        "plt.legend()\n",
        "plt.title(\"Training and Validation Loss\")\n",
        "\n",
        "plt.subplot(2,2,2)\n",
        "plt.plot(loss['accuracy'],label = \"Training Accuracy\")\n",
        "plt.plot(loss['val_accuracy'], label =\"Validation_ Accuracy \")\n",
        "plt.legend()\n",
        "plt.title(\"Training-Validation Accuracy\")"
      ],
      "metadata": {
        "id": "KjmZz3gcJBGi"
      },
      "execution_count": null,
      "outputs": []
    },
    {
      "cell_type": "code",
      "source": [
        "predictions = model.predict(X_test)\n",
        "\n",
        "y_pred = np.argmax(predictions, axis = 1)\n",
        "y_test_new = np.argmax(y_test, axis = 1)"
      ],
      "metadata": {
        "id": "yuCfebQ2JFIS"
      },
      "execution_count": null,
      "outputs": []
    },
    {
      "cell_type": "code",
      "source": [
        "print(classification_report(y_test_new, y_pred))"
      ],
      "metadata": {
        "id": "LPyT_zdjJIjV"
      },
      "execution_count": null,
      "outputs": []
    },
    {
      "cell_type": "code",
      "source": [
        "pd.DataFrame(confusion_matrix(y_test_new, y_pred), columns= [\"covid\", \"normal\", \"virus\"], index = [\"covid\", \"normal\", \"virus\"])"
      ],
      "metadata": {
        "id": "bqVIZFMSJK-C"
      },
      "execution_count": null,
      "outputs": []
    },
    {
      "cell_type": "markdown",
      "source": [
        "** Thank You **"
      ],
      "metadata": {
        "id": "IatIzgsEQKSb"
      }
    }
  ],
  "metadata": {
    "colab": {
      "private_outputs": true,
      "provenance": [],
      "gpuType": "T4",
      "authorship_tag": "ABX9TyO/CyLv7FuLUJWp0GI5Rd04",
      "include_colab_link": true
    },
    "kernelspec": {
      "display_name": "Python 3",
      "name": "python3"
    },
    "language_info": {
      "name": "python"
    },
    "gpuClass": "standard"
  },
  "nbformat": 4,
  "nbformat_minor": 0
}